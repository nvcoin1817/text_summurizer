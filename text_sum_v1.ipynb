{
 "cells": [
  {
   "cell_type": "markdown",
   "metadata": {},
   "source": [
    "# Simple text summerizer\n",
    "## input from .txt file\n",
    "## gensim library"
   ]
  },
  {
   "cell_type": "code",
   "execution_count": 38,
   "metadata": {},
   "outputs": [],
   "source": [
    "#file_path='D:/AI/01.Projects/01.NLP/02.text_sum/sample_OpenAI.txt'\n",
    "import urllib\n",
    "file_path=r'https://raw.githubusercontent.com/nvcoin1817/text_summurizer/v1/sample_OpenAI.txt'\n",
    "\n",
    "#file_path='https://github.com/nvcoin1817/text_summurizer/blob/v1/sample_OpenAI.txt'\n",
    "f=urllib.request.urlopen(file_path)\n",
    "\n",
    "text=f.read().decode('utf-8')"
   ]
  },
  {
   "cell_type": "code",
   "execution_count": 39,
   "metadata": {},
   "outputs": [
    {
     "name": "stdout",
     "output_type": "stream",
     "text": [
      "Every year, OpenAI’s employees vote on when they believe artificial general intelligence, or AGI, will finally arrive.\r\n",
      "It’s mostly seen as a fun way to bond, and their estimates differ widely. \r\n",
      "But in a field that still debates whether human-like autonomous systems are even possible, half the lab bets it is likely to happen within 15 years.\r\n",
      "In the four short years of its existence, OpenAI has become one of the leading AI research labs in the world. \r\n",
      "It has made a name for itself producing consistently headline-grabbing research, alongside other AI heavyweights like Alphabet’s DeepMind. \r\n",
      "It is also a darling in Silicon Valley, counting Elon Musk and legendary investor Sam Altman among its founders.\r\n",
      "Above all, it is lionized for its mission. \r\n",
      "Its goal is to be the first to create AGI—a machine with the learning and reasoning powers of a human mind. \r\n",
      "The purpose is not world domination; rather, the lab wants to ensure that the technology is developed safely and its benefits distributed evenly to the world.\r\n",
      "The implication is that AGI could easily run amok if the technology’s development is left to follow the path of least resistance. \r\n",
      "Narrow intelligence, the kind of clumsy AI that surrounds us today, has already served as an example. \r\n",
      "We now know that algorithms are biased and fragile; they can perpetrate great abuse and great deception; and the expense of developing and running them tends to concentrate their power in the hands of a few. \r\n",
      "By extrapolation, AGI could be catastrophic without the careful guidance of a benevolent shepherd.\r\n",
      "OpenAI wants to be that shepherd, and it has carefully crafted its image to fit the bill. \r\n",
      "In a field dominated by wealthy corporations, it was founded as a nonprofit. \r\n",
      "Its first announcement said that this distinction would allow it to “build value for everyone rather than shareholders.” \r\n",
      "Its charter—a document so sacred that employees’ pay is tied to how well they adhere to it—further declares that OpenAI’s “primary fiduciary duty is to humanity.” \r\n",
      "Attaining AGI safely is so important, it continues, that if another organization were close to getting there first, OpenAI would stop competing with it and collaborate instead. \r\n",
      "This alluring narrative plays well with investors and the media, and in July Microsoft injected the lab with a fresh $1 billion.\r\n",
      "But three days at OpenAI’s office—and nearly three dozen interviews with past and current employees, collaborators, friends, and other experts in the field—suggest a different picture. \r\n",
      "There is a misalignment between what the company publicly espouses and how it operates behind closed doors. \r\n",
      "Over time, it has allowed a fierce competitiveness and mounting pressure for ever more funding to erode its founding ideals of transparency, openness, and collaboration. \r\n",
      "Many who work or worked for the company insisted on anonymity because they were not authorized to speak or feared retaliation. \r\n",
      "Their accounts suggest that OpenAI, for all its noble aspirations, is obsessed with maintaining secrecy, protecting its image, and retaining the loyalty of its employees.\r\n",
      "\n"
     ]
    }
   ],
   "source": [
    "print(text)\n",
    "#this is testing GitHub"
   ]
  },
  {
   "cell_type": "code",
   "execution_count": null,
   "metadata": {},
   "outputs": [],
   "source": []
  }
 ],
 "metadata": {
  "kernelspec": {
   "display_name": "Python 3",
   "language": "python",
   "name": "python3"
  },
  "language_info": {
   "codemirror_mode": {
    "name": "ipython",
    "version": 3
   },
   "file_extension": ".py",
   "mimetype": "text/x-python",
   "name": "python",
   "nbconvert_exporter": "python",
   "pygments_lexer": "ipython3",
   "version": "3.7.6"
  }
 },
 "nbformat": 4,
 "nbformat_minor": 4
}
