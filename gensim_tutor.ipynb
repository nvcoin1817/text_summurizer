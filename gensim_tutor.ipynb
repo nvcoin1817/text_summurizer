{
 "cells": [
  {
   "cell_type": "code",
   "execution_count": 1,
   "metadata": {},
   "outputs": [],
   "source": [
    "%matplotlib inline"
   ]
  },
  {
   "cell_type": "markdown",
   "metadata": {},
   "source": [
    "\n",
    "Text Summarization\n",
    "==================\n",
    "\n",
    "Demonstrates summarizing text by extracting the most important sentences from it.\n"
   ]
  },
  {
   "cell_type": "code",
   "execution_count": 2,
   "metadata": {},
   "outputs": [],
   "source": [
    "import logging\n",
    "logging.basicConfig(format='%(asctime)s : %(levelname)s : %(message)s', level=logging.INFO)"
   ]
  },
  {
   "cell_type": "markdown",
   "metadata": {},
   "source": [
    "This module automatically summarizes the given text, by extracting one or\n",
    "more important sentences from the text. In a similar way, it can also extract\n",
    "keywords. This tutorial will teach you to use this summarization module via\n",
    "some examples. First, we will try a small example, then we will try two\n",
    "larger ones, and then we will review the performance of the summarizer in\n",
    "terms of speed.\n",
    "\n",
    "This summarizer is based on the , from an `\"TextRank\" algorithm by Mihalcea\n",
    "et al <http://web.eecs.umich.edu/%7Emihalcea/papers/mihalcea.emnlp04.pdf>`_.\n",
    "This algorithm was later improved upon by `Barrios et al.\n",
    "<https://raw.githubusercontent.com/summanlp/docs/master/articulo/articulo-en.pdf>`_,\n",
    "by introducing something called a \"BM25 ranking function\". \n",
    "\n",
    ".. important::\n",
    "    Gensim's summarization only works for English for now, because the text\n",
    "    is pre-processed so that stopwords are removed and the words are stemmed,\n",
    "    and these processes are language-dependent.\n",
    "\n",
    "Small example\n",
    "-------------\n",
    "\n",
    "First of all, we import the :py:func:`gensim.summarization.summarize` function.\n",
    "\n"
   ]
  },
  {
   "cell_type": "code",
   "execution_count": 3,
   "metadata": {},
   "outputs": [],
   "source": [
    "from pprint import pprint as print\n",
    "from gensim.summarization import summarize"
   ]
  },
  {
   "cell_type": "markdown",
   "metadata": {},
   "source": [
    "We will try summarizing a small toy example; later we will use a larger piece of text. In reality, the text is too small, but it suffices as an illustrative example.\n",
    "\n",
    "\n"
   ]
  },
  {
   "cell_type": "code",
   "execution_count": 4,
   "metadata": {},
   "outputs": [
    {
     "name": "stdout",
     "output_type": "stream",
     "text": [
      "('Martensite is formed in carbon steels by the rapid cooling (quenching) of '\n",
      " 'the austenite form of iron at such a high rate that carbon atoms do not have '\n",
      " 'time to diffuse out of the crystal structure in large enough quantities to '\n",
      " 'form cementite (Fe3C). Austenite is γ-Fe, (gamma-phase iron), a solid '\n",
      " 'solution of iron and alloying elements. As a result of the quenching, the '\n",
      " 'face-centered cubic austenite transforms to a highly strained body-centered '\n",
      " 'tetragonal form called martensite that is supersaturated with carbon. The '\n",
      " 'shear deformations that result produce a large number of dislocations, which '\n",
      " 'is a primary strengthening mechanism of steels. The highest hardness of a '\n",
      " 'pearlitic steel is 400 Brinell whereas martensite can achieve 700 BrinellThe '\n",
      " 'martensitic reaction begins during cooling when the austenite reaches the '\n",
      " 'martensite start temperature (Ms) and the parent austenite becomes '\n",
      " 'mechanically unstable. As the sample is quenched, an increasingly large '\n",
      " 'percentage of the austenite transforms to martensite until the lower '\n",
      " 'transformation temperature Mf is reached, at which time the transformation '\n",
      " 'is completed.For a eutectoid steel (0.78% C), between 6 and 10% of '\n",
      " 'austenite, called retained austenite, will remain. The percentage of '\n",
      " 'retained austenite increases from insignificant for less than 0.6% C steel, '\n",
      " 'to 13% retained austenite at 0.95% C and 30–47% retained austenite for a '\n",
      " '1.4% carbon steels. A very rapid quench is essential to create martensite.')\n"
     ]
    }
   ],
   "source": [
    "text = (\n",
    "   'Martensite is formed in carbon steels by the rapid cooling (quenching) of the austenite form of iron at such a high rate that carbon atoms do not have time to diffuse out of the crystal structure in large enough quantities to form cementite (Fe3C). Austenite is γ-Fe, (gamma-phase iron), a solid solution of iron and alloying elements. As a result of the quenching, the face-centered cubic austenite transforms to a highly strained body-centered tetragonal form called martensite that is supersaturated with carbon. The shear deformations that result produce a large number of dislocations, which is a primary strengthening mechanism of steels. The highest hardness of a pearlitic steel is 400 Brinell whereas martensite can achieve 700 Brinell'\n",
    "\n",
    "'The martensitic reaction begins during cooling when the austenite reaches the martensite start temperature (Ms) and the parent austenite becomes mechanically unstable. As the sample is quenched, an increasingly large percentage of the austenite transforms to martensite until the lower transformation temperature Mf is reached, at which time the transformation is completed.'\n",
    "\n",
    "'For a eutectoid steel (0.78% C), between 6 and 10% of austenite, called retained austenite, will remain. The percentage of retained austenite increases from insignificant for less than 0.6% C steel, to 13% retained austenite at 0.95% C and 30–47% retained austenite for a 1.4% carbon steels. A very rapid quench is essential to create martensite.'\n",
    ")\n",
    "print(text)"
   ]
  },
  {
   "cell_type": "markdown",
   "metadata": {},
   "source": [
    "To summarize this text, we pass the **raw string data** as input to the\n",
    "function \"summarize\", and it will return a summary.\n",
    "\n",
    "Note: make sure that the string does not contain any newlines where the line\n",
    "breaks in a sentence. A sentence with a newline in it (i.e. a carriage\n",
    "return, \"\\n\") will be treated as two sentences.\n",
    "\n",
    "\n"
   ]
  },
  {
   "cell_type": "code",
   "execution_count": 5,
   "metadata": {},
   "outputs": [
    {
     "name": "stderr",
     "output_type": "stream",
     "text": [
      "2020-02-19 18:21:40,062 : WARNING : Input text is expected to have at least 10 sentences.\n",
      "2020-02-19 18:21:40,064 : INFO : adding document #0 to Dictionary(0 unique tokens: [])\n",
      "2020-02-19 18:21:40,065 : INFO : built Dictionary(70 unique tokens: ['atom', 'austenit', 'carbon', 'cementit', 'cool']...) from 8 documents (total 120 corpus positions)\n",
      "2020-02-19 18:21:40,066 : WARNING : Input corpus is expected to have at least 10 documents.\n",
      "2020-02-19 18:21:40,067 : INFO : Building graph\n",
      "2020-02-19 18:21:40,068 : INFO : Filling graph\n",
      "2020-02-19 18:21:40,070 : INFO : Removing unreachable nodes of graph\n",
      "2020-02-19 18:21:40,071 : INFO : Pagerank graph\n",
      "2020-02-19 18:21:40,775 : INFO : Sorting pagerank scores\n"
     ]
    },
    {
     "name": "stdout",
     "output_type": "stream",
     "text": [
      "('As the sample is quenched, an increasingly large percentage of the austenite '\n",
      " 'transforms to martensite until the lower transformation temperature Mf is '\n",
      " 'reached, at which time the transformation is completed.For a eutectoid steel '\n",
      " '(0.78% C), between 6 and 10% of austenite, called retained austenite, will '\n",
      " 'remain.')\n"
     ]
    }
   ],
   "source": [
    "print(summarize(text))"
   ]
  },
  {
   "cell_type": "markdown",
   "metadata": {},
   "source": [
    "Use the \"split\" option if you want a list of strings instead of a single string.\n",
    "\n",
    "\n"
   ]
  },
  {
   "cell_type": "code",
   "execution_count": 6,
   "metadata": {},
   "outputs": [
    {
     "name": "stderr",
     "output_type": "stream",
     "text": [
      "2020-02-19 18:21:55,584 : WARNING : Input text is expected to have at least 10 sentences.\n",
      "2020-02-19 18:21:55,585 : INFO : adding document #0 to Dictionary(0 unique tokens: [])\n",
      "2020-02-19 18:21:55,587 : INFO : built Dictionary(70 unique tokens: ['atom', 'austenit', 'carbon', 'cementit', 'cool']...) from 8 documents (total 120 corpus positions)\n",
      "2020-02-19 18:21:55,588 : WARNING : Input corpus is expected to have at least 10 documents.\n",
      "2020-02-19 18:21:55,590 : INFO : Building graph\n",
      "2020-02-19 18:21:55,591 : INFO : Filling graph\n",
      "2020-02-19 18:21:55,592 : INFO : Removing unreachable nodes of graph\n",
      "2020-02-19 18:21:55,593 : INFO : Pagerank graph\n",
      "2020-02-19 18:21:55,594 : INFO : Sorting pagerank scores\n"
     ]
    },
    {
     "name": "stdout",
     "output_type": "stream",
     "text": [
      "['As the sample is quenched, an increasingly large percentage of the austenite '\n",
      " 'transforms to martensite until the lower transformation temperature Mf is '\n",
      " 'reached, at which time the transformation is completed.For a eutectoid steel '\n",
      " '(0.78% C), between 6 and 10% of austenite, called retained austenite, will '\n",
      " 'remain.']\n"
     ]
    }
   ],
   "source": [
    "print(summarize(text, split=True))"
   ]
  },
  {
   "cell_type": "markdown",
   "metadata": {},
   "source": [
    "You can adjust how much text the summarizer outputs via the \"ratio\" parameter\n",
    "or the \"word_count\" parameter. Using the \"ratio\" parameter, you specify what\n",
    "fraction of sentences in the original text should be returned as output.\n",
    "Below we specify that we want 50% of the original text (the default is 20%).\n",
    "\n",
    "\n"
   ]
  },
  {
   "cell_type": "code",
   "execution_count": 7,
   "metadata": {},
   "outputs": [
    {
     "name": "stderr",
     "output_type": "stream",
     "text": [
      "2020-02-19 18:22:17,566 : WARNING : Input text is expected to have at least 10 sentences.\n",
      "2020-02-19 18:22:17,567 : INFO : adding document #0 to Dictionary(0 unique tokens: [])\n",
      "2020-02-19 18:22:17,568 : INFO : built Dictionary(70 unique tokens: ['atom', 'austenit', 'carbon', 'cementit', 'cool']...) from 8 documents (total 120 corpus positions)\n",
      "2020-02-19 18:22:17,569 : WARNING : Input corpus is expected to have at least 10 documents.\n",
      "2020-02-19 18:22:17,570 : INFO : Building graph\n",
      "2020-02-19 18:22:17,571 : INFO : Filling graph\n",
      "2020-02-19 18:22:17,573 : INFO : Removing unreachable nodes of graph\n",
      "2020-02-19 18:22:17,574 : INFO : Pagerank graph\n",
      "2020-02-19 18:22:17,577 : INFO : Sorting pagerank scores\n"
     ]
    },
    {
     "name": "stdout",
     "output_type": "stream",
     "text": [
      "('Martensite is formed in carbon steels by the rapid cooling (quenching) of '\n",
      " 'the austenite form of iron at such a high rate that carbon atoms do not have '\n",
      " 'time to diffuse out of the crystal structure in large enough quantities to '\n",
      " 'form cementite (Fe3C).\\n'\n",
      " 'As a result of the quenching, the face-centered cubic austenite transforms '\n",
      " 'to a highly strained body-centered tetragonal form called martensite that is '\n",
      " 'supersaturated with carbon.\\n'\n",
      " 'As the sample is quenched, an increasingly large percentage of the austenite '\n",
      " 'transforms to martensite until the lower transformation temperature Mf is '\n",
      " 'reached, at which time the transformation is completed.For a eutectoid steel '\n",
      " '(0.78% C), between 6 and 10% of austenite, called retained austenite, will '\n",
      " 'remain.\\n'\n",
      " 'The percentage of retained austenite increases from insignificant for less '\n",
      " 'than 0.6% C steel, to 13% retained austenite at 0.95% C and 30–47% retained '\n",
      " 'austenite for a 1.4% carbon steels.')\n"
     ]
    }
   ],
   "source": [
    "print(summarize(text, ratio=0.5))"
   ]
  },
  {
   "cell_type": "markdown",
   "metadata": {},
   "source": [
    "Using the \"word_count\" parameter, we specify the maximum amount of words we\n",
    "want in the summary. Below we have specified that we want no more than 50\n",
    "words.\n",
    "\n",
    "\n"
   ]
  },
  {
   "cell_type": "code",
   "execution_count": 8,
   "metadata": {},
   "outputs": [
    {
     "name": "stderr",
     "output_type": "stream",
     "text": [
      "2020-02-19 18:22:19,887 : WARNING : Input text is expected to have at least 10 sentences.\n",
      "2020-02-19 18:22:19,888 : INFO : adding document #0 to Dictionary(0 unique tokens: [])\n",
      "2020-02-19 18:22:19,889 : INFO : built Dictionary(70 unique tokens: ['atom', 'austenit', 'carbon', 'cementit', 'cool']...) from 8 documents (total 120 corpus positions)\n",
      "2020-02-19 18:22:19,890 : WARNING : Input corpus is expected to have at least 10 documents.\n",
      "2020-02-19 18:22:19,891 : INFO : Building graph\n",
      "2020-02-19 18:22:19,892 : INFO : Filling graph\n",
      "2020-02-19 18:22:19,894 : INFO : Removing unreachable nodes of graph\n",
      "2020-02-19 18:22:19,895 : INFO : Pagerank graph\n",
      "2020-02-19 18:22:19,898 : INFO : Sorting pagerank scores\n"
     ]
    },
    {
     "name": "stdout",
     "output_type": "stream",
     "text": [
      "('As the sample is quenched, an increasingly large percentage of the austenite '\n",
      " 'transforms to martensite until the lower transformation temperature Mf is '\n",
      " 'reached, at which time the transformation is completed.For a eutectoid steel '\n",
      " '(0.78% C), between 6 and 10% of austenite, called retained austenite, will '\n",
      " 'remain.')\n"
     ]
    }
   ],
   "source": [
    "print(summarize(text, word_count=50))"
   ]
  },
  {
   "cell_type": "markdown",
   "metadata": {},
   "source": [
    "As mentioned earlier, this module also supports **keyword** extraction.\n",
    "Keyword extraction works in the same way as summary generation (i.e. sentence\n",
    "extraction), in that the algorithm tries to find words that are important or\n",
    "seem representative of the entire text. They keywords are not always single\n",
    "words; in the case of multi-word keywords, they are typically all nouns.\n",
    "\n",
    "\n"
   ]
  },
  {
   "cell_type": "code",
   "execution_count": null,
   "metadata": {},
   "outputs": [],
   "source": [
    "from gensim.summarization import keywords\n",
    "print(keywords(text))"
   ]
  },
  {
   "cell_type": "markdown",
   "metadata": {},
   "source": [
    "Larger example\n",
    "--------------\n",
    "\n",
    "Let us try an example with a larger piece of text. We will be using a\n",
    "synopsis of the movie \"The Matrix\", which we have taken from `this\n",
    "<http://www.imdb.com/title/tt0133093/synopsis?ref_=ttpl_pl_syn>`_ IMDb page.\n",
    "\n",
    "In the code below, we read the text file directly from a web-page using\n",
    "\"requests\". Then we produce a summary and some keywords.\n",
    "\n",
    "\n"
   ]
  },
  {
   "cell_type": "code",
   "execution_count": null,
   "metadata": {},
   "outputs": [],
   "source": [
    "import requests\n",
    "\n",
    "text = requests.get('http://rare-technologies.com/the_matrix_synopsis.txt').text\n",
    "print(text)"
   ]
  },
  {
   "cell_type": "markdown",
   "metadata": {},
   "source": [
    "First, the summary\n",
    "\n",
    "\n"
   ]
  },
  {
   "cell_type": "code",
   "execution_count": null,
   "metadata": {},
   "outputs": [],
   "source": [
    "print(summarize(text, ratio=0.01))"
   ]
  },
  {
   "cell_type": "markdown",
   "metadata": {},
   "source": [
    "And now, the keywords:\n",
    "\n",
    "\n"
   ]
  },
  {
   "cell_type": "code",
   "execution_count": null,
   "metadata": {},
   "outputs": [],
   "source": [
    "print(keywords(text, ratio=0.01))"
   ]
  },
  {
   "cell_type": "markdown",
   "metadata": {},
   "source": [
    "If you know this movie, you see that this summary is actually quite good. We\n",
    "also see that some of the most important characters (Neo, Morpheus, Trinity)\n",
    "were extracted as keywords.\n",
    "\n",
    "Another example\n",
    "---------------\n",
    "\n",
    "Let's try an example similar to the one above. This time, we will use the IMDb synopsis\n",
    "`The Big Lebowski <http://www.imdb.com/title/tt0118715/synopsis?ref_=tt_stry_pl>`_.\n",
    "\n",
    "Again, we download the text and produce a summary and some keywords.\n",
    "\n",
    "\n"
   ]
  },
  {
   "cell_type": "code",
   "execution_count": null,
   "metadata": {},
   "outputs": [],
   "source": [
    "text = requests.get('http://rare-technologies.com/the_big_lebowski_synopsis.txt').text\n",
    "print(text)\n",
    "print(summarize(text, ratio=0.01))\n",
    "print(keywords(text, ratio=0.01))"
   ]
  },
  {
   "cell_type": "markdown",
   "metadata": {},
   "source": [
    "This time around, the summary is not of high quality, as it does not tell us\n",
    "much about the movie. In a way, this might not be the algorithms fault,\n",
    "rather this text simply doesn't contain one or two sentences that capture the\n",
    "essence of the text as in \"The Matrix\" synopsis.\n",
    "\n",
    "The keywords, however, managed to find some of the main characters.\n",
    "\n",
    "Performance\n",
    "-----------\n",
    "\n",
    "We will test how the speed of the summarizer scales with the size of the\n",
    "dataset. These tests were run on an Intel Core i5 4210U CPU @ 1.70 GHz x 4\n",
    "processor. Note that the summarizer does **not** support multithreading\n",
    "(parallel processing).\n",
    "\n",
    "The tests were run on the book \"Honest Abe\" by Alonzo Rothschild. Download\n",
    "the book in plain-text `here <http://www.gutenberg.org/ebooks/49679>`__.\n",
    "\n",
    "In the **plot below** , we see the running times together with the sizes of\n",
    "the datasets. To create datasets of different sizes, we have simply taken\n",
    "prefixes of text; in other words we take the first **n** characters of the\n",
    "book. The algorithm seems to be **quadratic in time** , so one needs to be\n",
    "careful before plugging a large dataset into the summarizer.\n",
    "\n"
   ]
  },
  {
   "cell_type": "code",
   "execution_count": null,
   "metadata": {},
   "outputs": [],
   "source": [
    "import matplotlib.pyplot as plt\n",
    "import matplotlib.image as mpimg\n",
    "img = mpimg.imread('summarization_tutorial_plot.png')\n",
    "imgplot = plt.imshow(img)\n",
    "plt.axis('off')\n",
    "plt.show()"
   ]
  },
  {
   "cell_type": "markdown",
   "metadata": {},
   "source": [
    "Text-content dependent running times\n",
    "------------------------------------\n",
    "\n",
    "The running time is not only dependent on the size of the dataset. For\n",
    "example, summarizing \"The Matrix\" synopsis (about 36,000 characters) takes\n",
    "about 3.1 seconds, while summarizing 35,000 characters of this book takes\n",
    "about 8.5 seconds. So the former is **more than twice as fast**.\n",
    "\n",
    "One reason for this difference in running times is the data structure that is\n",
    "used. The algorithm represents the data using a graph, where vertices (nodes)\n",
    "are sentences, and then constructs weighted edges between the vertices that\n",
    "represent how the sentences relate to each other. This means that every piece\n",
    "of text will have a different graph, thus making the running times different.\n",
    "The size of this data structure is **quadratic in the worst case** (the worst\n",
    "case is when each vertex has an edge to every other vertex).\n",
    "\n",
    "Another possible reason for the difference in running times is that the\n",
    "problems converge at different rates, meaning that the error drops slower for\n",
    "some datasets than for others.\n",
    "\n",
    "Montemurro and Zanette's entropy based keyword extraction algorithm\n",
    "-------------------------------------------------------------------\n",
    "\n",
    "`This paper <https://arxiv.org/abs/0907.1558>`__ describes a technique to\n",
    "identify words that play a significant role in the large-scale structure of a\n",
    "text. These typically correspond to the major themes of the text. The text is\n",
    "divided into blocks of ~1000 words, and the entropy of each word's\n",
    "distribution amongst the blocks is caclulated and compared with the expected\n",
    "entropy if the word were distributed randomly.\n",
    "\n",
    "\n"
   ]
  },
  {
   "cell_type": "code",
   "execution_count": null,
   "metadata": {},
   "outputs": [],
   "source": [
    "import requests\n",
    "from gensim.summarization import mz_keywords\n",
    "\n",
    "text=requests.get(\"http://www.gutenberg.org/files/49679/49679-0.txt\").text\n",
    "print(mz_keywords(text,scores=True,threshold=0.001))"
   ]
  },
  {
   "cell_type": "markdown",
   "metadata": {},
   "source": [
    "By default, the algorithm weights the entropy by the overall frequency of the\n",
    "word in the document. We can remove this weighting by setting weighted=False\n",
    "\n",
    "\n"
   ]
  },
  {
   "cell_type": "code",
   "execution_count": null,
   "metadata": {},
   "outputs": [],
   "source": [
    "print(mz_keywords(text,scores=True,weighted=False,threshold=1.0))"
   ]
  },
  {
   "cell_type": "markdown",
   "metadata": {},
   "source": [
    "When this option is used, it is possible to calculate a threshold\n",
    "automatically from the number of blocks\n",
    "\n",
    "\n"
   ]
  },
  {
   "cell_type": "code",
   "execution_count": null,
   "metadata": {},
   "outputs": [],
   "source": [
    "print(mz_keywords(text,scores=True,weighted=False,threshold=\"auto\"))"
   ]
  },
  {
   "cell_type": "markdown",
   "metadata": {},
   "source": [
    "The complexity of the algorithm is **O**\\ (\\ *Nw*\\ ), where *N* is the number\n",
    "of words in the document and *w* is the number of unique words.\n",
    "\n",
    "\n"
   ]
  }
 ],
 "metadata": {
  "kernelspec": {
   "display_name": "Python 3",
   "language": "python",
   "name": "python3"
  },
  "language_info": {
   "codemirror_mode": {
    "name": "ipython",
    "version": 3
   },
   "file_extension": ".py",
   "mimetype": "text/x-python",
   "name": "python",
   "nbconvert_exporter": "python",
   "pygments_lexer": "ipython3",
   "version": "3.7.6"
  }
 },
 "nbformat": 4,
 "nbformat_minor": 1
}
